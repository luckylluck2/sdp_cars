{
 "cells": [
  {
   "cell_type": "code",
   "execution_count": 1,
   "metadata": {},
   "outputs": [
    {
     "name": "stderr",
     "output_type": "stream",
     "text": [
      "c:\\Users\\~MatthijsvanGroening\\.conda\\envs\\sdp_cars\\lib\\site-packages\\tqdm\\auto.py:22: TqdmWarning: IProgress not found. Please update jupyter and ipywidgets. See https://ipywidgets.readthedocs.io/en/stable/user_install.html\n",
      "  from .autonotebook import tqdm as notebook_tqdm\n"
     ]
    }
   ],
   "source": [
    "import os\n",
    "import json\n",
    "import numpy as np\n",
    "import pandas as pd\n",
    "from torch import load\n",
    "from torch import FloatTensor\n",
    "from machine_learning.DNN.model import DNN\n",
    "from machine_learning.DNN.data_pipepline import CarData\n",
    "from torch.utils.data import DataLoader"
   ]
  },
  {
   "cell_type": "code",
   "execution_count": 2,
   "metadata": {},
   "outputs": [],
   "source": [
    "data_dir = './data'\n",
    "\n",
    "# data params\n",
    "label_col = 'price'\n",
    "norm_feats = ['year', 'odometer', 'cylinders', 'lat', 'long']\n",
    "label_norm = 'standard'\n",
    "\n",
    "# training params\n",
    "batch_size = 32\n",
    "val_size = 0.1\n",
    "test_size = 0.1\n",
    "\n",
    "# data files\n",
    "train_features_file = os.path.join(data_dir, 'cleaned_data_train.parquet')\n",
    "train_label_file = os.path.join(data_dir, 'cleaned_price_train.parquet')\n",
    "val_features_file = os.path.join(data_dir, 'cleaned_data_val.parquet')\n",
    "val_label_file = os.path.join(data_dir, 'cleaned_price_val.parquet')\n",
    "test_features_file = os.path.join(data_dir, 'cleaned_data_test.parquet')\n",
    "test_label_file = os.path.join(data_dir, 'cleaned_price_test.parquet')\n",
    "\n",
    "data = CarData()\n",
    "data.load_from_files(train_features_file, train_label_file, val_features_file, \n",
    "                     val_label_file,  test_features_file, test_label_file,\n",
    "                     norm_feats, label_norm='standard')\n",
    "\n",
    "# train_data = DataLoader(data.train_data, batch_size=batch_size, shuffle=True)\n",
    "val_data = DataLoader(data.val_data, batch_size=batch_size, shuffle=True)\n",
    "test_data = DataLoader(data.test_data, batch_size=batch_size, shuffle=True)"
   ]
  },
  {
   "cell_type": "code",
   "execution_count": 3,
   "metadata": {},
   "outputs": [],
   "source": [
    "# model params\n",
    "input_dim = len(data.val_data.dataset[0][0])\n",
    "hidden_dims = [512, 256, 256, 128]\n",
    "output_dim = 1\n",
    "\n",
    "# training params\n",
    "learning_rate = 0.001\n",
    "n_epochs = 100\n",
    "l2_reg = 1e-5\n",
    "\n",
    "model_save_dir = f\"./machine_learning/DNN/models/arc_{'_'.join([str(i) for i in hidden_dims])}_lr_{learning_rate}_l2_{l2_reg}\""
   ]
  },
  {
   "cell_type": "code",
   "execution_count": 4,
   "metadata": {},
   "outputs": [
    {
     "data": {
      "text/plain": [
       "<All keys matched successfully>"
      ]
     },
     "execution_count": 4,
     "metadata": {},
     "output_type": "execute_result"
    }
   ],
   "source": [
    "model = DNN(hidden_dims=hidden_dims, input_dim=input_dim, output_dim=output_dim)\n",
    "model.load_state_dict(load(os.path.join(model_save_dir, 'model_parameters')))"
   ]
  },
  {
   "cell_type": "code",
   "execution_count": 5,
   "metadata": {},
   "outputs": [],
   "source": [
    "# Meta data\n",
    "dataset = data.val_data.dataset\n",
    "feature_means = data.feature_means\n",
    "feature_stds = data.feature_stds\n",
    "label_mean = data.label_mean\n",
    "label_std = data.label_std"
   ]
  },
  {
   "cell_type": "code",
   "execution_count": 8,
   "metadata": {},
   "outputs": [
    {
     "name": "stdout",
     "output_type": "stream",
     "text": [
      "Predicted price: 10208.61207640134 euro\n"
     ]
    }
   ],
   "source": [
    "input_json = {'year': 2012,\n",
    "            'manufacturer': 'toyota',\n",
    "            'condition': None,\n",
    "            'cylinders': 6.0,\n",
    "            'fuel': 'gas',\n",
    "            'odometer': 74000,\n",
    "            'title_status': 'clean',\n",
    "            'transmission': 'manual',\n",
    "            'drive': 'fwd',\n",
    "            'size': 'compact',\n",
    "            'type': 'sedan',\n",
    "            'paint_color': 'grey',\n",
    "            'lat': 40.73,\n",
    "            'long': -73.93}\n",
    "\n",
    "with open('./data/metadata.json', 'r') as f:\n",
    "    data_filters = json.load(f)\n",
    "    \n",
    "with open('./data/column_names.json', 'r') as f:\n",
    "    column_names = json.load(f)\n",
    "\n",
    "input_X = {}\n",
    "for i, col in enumerate(column_names['features']):\n",
    "    if column_names['features'][col] == 'numeric':\n",
    "        input_X.update({col:(input_json[col] - feature_means[i]) / feature_stds[i]})\n",
    "    else:\n",
    "        categorical_column = '_'.join(col.split('_')[:-1])\n",
    "        categorical_value = col.split('_')[-1]\n",
    "        if input_json[categorical_column] == categorical_value:\n",
    "            input_X.update({col:1.0})\n",
    "        else:\n",
    "            input_X.update({col:0.0})\n",
    "\n",
    "model.eval()\n",
    "y_pred = model(FloatTensor(np.array(list(input_X.values())))).detach().numpy()[0]\n",
    "            \n",
    "print('Predicted price:', ((y_pred * label_std) + label_mean) * 0.94, 'euro')\n"
   ]
  },
  {
   "cell_type": "code",
   "execution_count": 11,
   "metadata": {},
   "outputs": [
    {
     "name": "stdout",
     "output_type": "stream",
     "text": [
      "year                  2019.0\n",
      "odometer              6200.0\n",
      "cylinders                6.0\n",
      "lat                38.255234\n",
      "long              -77.497557\n",
      "size                    None\n",
      "manufacturer            ford\n",
      "transmission       automatic\n",
      "paint_color              red\n",
      "drive                    fwd\n",
      "condition               None\n",
      "fuel                     gas\n",
      "title_status           clean\n",
      "type                    None\n",
      "predicted price        21925\n",
      "true price             18450\n"
     ]
    }
   ],
   "source": [
    "numeric_columns = data.numeric_features\n",
    "onehot_columns = data.onehot_features\n",
    "categorical_cols = data.categorical_features\n",
    "\n",
    "sample_idx = np.random.randint(0, len(dataset))\n",
    "X = dataset[sample_idx][0]\n",
    "y_true = dataset[sample_idx][1]\n",
    "\n",
    "# Predict sample label\n",
    "model.eval()\n",
    "y_pred = model(FloatTensor(X))\n",
    "\n",
    "# Reconstruct prediction\n",
    "y_pred = (y_pred.detach().numpy() * label_std) + label_mean\n",
    "\n",
    "# Reconstruct numeric data\n",
    "numeric_vals = (X[:5] * feature_stds) + feature_means\n",
    "\n",
    "# Reconstruct categorical data\n",
    "\n",
    "categorical_vals = list(np.array(onehot_columns)[np.where(X[5:] == 1)[0]])\n",
    "categorical_vals = {'_'.join(col.split('_')[:-1]):col.split('_')[-1] for col in categorical_vals}\n",
    "\n",
    "# Reconstruct label\n",
    "y_true = (y_true * label_std) + label_mean\n",
    "\n",
    "# Put all data in dictionary\n",
    "sample_data = {}\n",
    "for col, val in zip(numeric_columns, numeric_vals):\n",
    "    sample_data.update({col:val})\n",
    "for col in categorical_cols:\n",
    "    if col in categorical_vals:\n",
    "        sample_data.update({col:categorical_vals[col]})\n",
    "    else:\n",
    "        sample_data.update({col:None})\n",
    "sample_data.update({'predicted price': int(y_pred[0]), 'true price': int(y_true[0])})\n",
    "\n",
    "# Show sample results\n",
    "print(pd.Series(sample_data).to_string())"
   ]
  }
 ],
 "metadata": {
  "kernelspec": {
   "display_name": "sdp_cars",
   "language": "python",
   "name": "python3"
  },
  "language_info": {
   "codemirror_mode": {
    "name": "ipython",
    "version": 3
   },
   "file_extension": ".py",
   "mimetype": "text/x-python",
   "name": "python",
   "nbconvert_exporter": "python",
   "pygments_lexer": "ipython3",
   "version": "3.10.9"
  },
  "orig_nbformat": 4,
  "vscode": {
   "interpreter": {
    "hash": "150cc08f7c149483de07f1e49a26179f658c8842df0262fb1328941cbc84a9d7"
   }
  }
 },
 "nbformat": 4,
 "nbformat_minor": 2
}
