{
 "cells": [
  {
   "cell_type": "code",
   "execution_count": 1,
   "metadata": {},
   "outputs": [
    {
     "name": "stderr",
     "output_type": "stream",
     "text": [
      "c:\\Users\\~MatthijsvanGroening\\.conda\\envs\\sdp_food\\lib\\site-packages\\tqdm\\auto.py:22: TqdmWarning: IProgress not found. Please update jupyter and ipywidgets. See https://ipywidgets.readthedocs.io/en/stable/user_install.html\n",
      "  from .autonotebook import tqdm as notebook_tqdm\n"
     ]
    }
   ],
   "source": [
    "from machine_learning.DNN.model import DNN\n",
    "from machine_learning.DNN.training import train_model\n",
    "from machine_learning.DNN.data_pipepline import FoodDataset, recipes_data_pipeline"
   ]
  },
  {
   "cell_type": "code",
   "execution_count": 2,
   "metadata": {},
   "outputs": [],
   "source": [
    "# import os\n",
    "# import pandas as pd\n",
    "# from seaborn import pairplot\n",
    "\n",
    "# data_dir = './data'\n",
    "\n",
    "# data = pd.read_parquet(os.path.join(data_dir, 'cleaned_data.parquet'))\n",
    "# pairplot(data.iloc[:1000])"
   ]
  },
  {
   "cell_type": "code",
   "execution_count": 2,
   "metadata": {},
   "outputs": [],
   "source": [
    "import os\n",
    "from torch.utils.data import DataLoader\n",
    "\n",
    "data_dir = './data'\n",
    "\n",
    "train_data = FoodDataset(os.path.join(data_dir, 'cleaned_data.parquet'), train=True)\n",
    "val_data = FoodDataset(os.path.join(data_dir, 'cleaned_data.parquet'), train=False)\n",
    "\n",
    "train_data = DataLoader(train_data, batch_size=32, shuffle=True)\n",
    "val_data = DataLoader(val_data, batch_size=32, shuffle=True)"
   ]
  },
  {
   "cell_type": "code",
   "execution_count": 3,
   "metadata": {},
   "outputs": [
    {
     "name": "stderr",
     "output_type": "stream",
     "text": [
      "train epoch 0: 100%|██████████| 5872/5872 [00:30<00:00, 190.77it/s, loss=16.2, tp=0, tn=0, fp=0, fn=0]\n",
      "val epoch 0: 100%|██████████| 653/653 [00:00<00:00, 680.49it/s, loss=16.2, tp=0, tn=0, fp=0, fn=0]\n"
     ]
    },
    {
     "name": "stdout",
     "output_type": "stream",
     "text": [
      " \n"
     ]
    },
    {
     "name": "stderr",
     "output_type": "stream",
     "text": [
      "train epoch 1: 100%|██████████| 5872/5872 [00:33<00:00, 176.83it/s, loss=16.1, tp=0, tn=0, fp=0, fn=0]\n",
      "val epoch 1: 100%|██████████| 653/653 [00:00<00:00, 671.83it/s, loss=16.2, tp=0, tn=0, fp=0, fn=0]\n"
     ]
    },
    {
     "name": "stdout",
     "output_type": "stream",
     "text": [
      " \n"
     ]
    },
    {
     "name": "stderr",
     "output_type": "stream",
     "text": [
      "train epoch 2: 100%|██████████| 5872/5872 [00:40<00:00, 145.57it/s, loss=16.1, tp=0, tn=0, fp=0, fn=0]\n",
      "val epoch 2: 100%|██████████| 653/653 [00:00<00:00, 676.76it/s, loss=16.2, tp=0, tn=0, fp=0, fn=0]\n"
     ]
    },
    {
     "name": "stdout",
     "output_type": "stream",
     "text": [
      " \n"
     ]
    },
    {
     "name": "stderr",
     "output_type": "stream",
     "text": [
      "train epoch 3: 100%|██████████| 5872/5872 [00:48<00:00, 120.94it/s, loss=16, tp=0, tn=0, fp=0, fn=0]\n",
      "val epoch 3: 100%|██████████| 653/653 [00:00<00:00, 657.58it/s, loss=16.2, tp=0, tn=0, fp=0, fn=0]\n"
     ]
    },
    {
     "name": "stdout",
     "output_type": "stream",
     "text": [
      " \n"
     ]
    },
    {
     "name": "stderr",
     "output_type": "stream",
     "text": [
      "train epoch 4: 100%|██████████| 5872/5872 [00:51<00:00, 113.24it/s, loss=16, tp=0, tn=0, fp=0, fn=0]\n",
      "val epoch 4: 100%|██████████| 653/653 [00:00<00:00, 658.12it/s, loss=16.2, tp=0, tn=0, fp=0, fn=0]\n"
     ]
    },
    {
     "name": "stdout",
     "output_type": "stream",
     "text": [
      " \n"
     ]
    },
    {
     "name": "stderr",
     "output_type": "stream",
     "text": [
      "train epoch 5: 100%|██████████| 5872/5872 [00:52<00:00, 111.40it/s, loss=16, tp=0, tn=0, fp=0, fn=0]\n",
      "val epoch 5: 100%|██████████| 653/653 [00:01<00:00, 652.02it/s, loss=16.2, tp=0, tn=0, fp=0, fn=0]\n"
     ]
    },
    {
     "name": "stdout",
     "output_type": "stream",
     "text": [
      " \n"
     ]
    },
    {
     "name": "stderr",
     "output_type": "stream",
     "text": [
      "train epoch 6: 100%|██████████| 5872/5872 [00:51<00:00, 113.07it/s, loss=16, tp=0, tn=0, fp=0, fn=0]\n",
      "val epoch 6: 100%|██████████| 653/653 [00:00<00:00, 660.52it/s, loss=16.2, tp=0, tn=0, fp=0, fn=0]\n"
     ]
    },
    {
     "name": "stdout",
     "output_type": "stream",
     "text": [
      " \n"
     ]
    },
    {
     "name": "stderr",
     "output_type": "stream",
     "text": [
      "train epoch 7: 100%|██████████| 5872/5872 [00:50<00:00, 117.07it/s, loss=16, tp=0, tn=0, fp=0, fn=0]\n",
      "val epoch 7: 100%|██████████| 653/653 [00:00<00:00, 693.97it/s, loss=16.2, tp=0, tn=0, fp=0, fn=0]\n"
     ]
    },
    {
     "name": "stdout",
     "output_type": "stream",
     "text": [
      " \n"
     ]
    },
    {
     "name": "stderr",
     "output_type": "stream",
     "text": [
      "train epoch 8: 100%|██████████| 5872/5872 [00:51<00:00, 113.45it/s, loss=16, tp=0, tn=0, fp=0, fn=0]\n",
      "val epoch 8: 100%|██████████| 653/653 [00:00<00:00, 655.93it/s, loss=16.1, tp=0, tn=0, fp=0, fn=0]\n"
     ]
    },
    {
     "name": "stdout",
     "output_type": "stream",
     "text": [
      " \n"
     ]
    },
    {
     "name": "stderr",
     "output_type": "stream",
     "text": [
      "train epoch 9: 100%|██████████| 5872/5872 [00:52<00:00, 111.87it/s, loss=16, tp=0, tn=0, fp=0, fn=0]\n",
      "val epoch 9: 100%|██████████| 653/653 [00:00<00:00, 692.75it/s, loss=16.1, tp=0, tn=0, fp=0, fn=0]\n"
     ]
    },
    {
     "name": "stdout",
     "output_type": "stream",
     "text": [
      " \n"
     ]
    },
    {
     "name": "stderr",
     "output_type": "stream",
     "text": [
      "train epoch 10: 100%|██████████| 5872/5872 [00:51<00:00, 113.41it/s, loss=16, tp=0, tn=0, fp=0, fn=0]\n",
      "val epoch 10: 100%|██████████| 653/653 [00:00<00:00, 662.65it/s, loss=16.1, tp=0, tn=0, fp=0, fn=0]\n"
     ]
    },
    {
     "name": "stdout",
     "output_type": "stream",
     "text": [
      " \n"
     ]
    },
    {
     "name": "stderr",
     "output_type": "stream",
     "text": [
      "train epoch 11: 100%|██████████| 5872/5872 [00:52<00:00, 111.11it/s, loss=16, tp=0, tn=0, fp=0, fn=0]\n",
      "val epoch 11: 100%|██████████| 653/653 [00:00<00:00, 687.78it/s, loss=16.1, tp=0, tn=0, fp=0, fn=0]\n"
     ]
    },
    {
     "name": "stdout",
     "output_type": "stream",
     "text": [
      " \n"
     ]
    },
    {
     "name": "stderr",
     "output_type": "stream",
     "text": [
      "train epoch 12: 100%|██████████| 5872/5872 [00:54<00:00, 107.37it/s, loss=16, tp=0, tn=0, fp=0, fn=0]\n",
      "val epoch 12: 100%|██████████| 653/653 [00:00<00:00, 656.17it/s, loss=16.1, tp=0, tn=0, fp=0, fn=0]\n"
     ]
    },
    {
     "name": "stdout",
     "output_type": "stream",
     "text": [
      " \n"
     ]
    },
    {
     "name": "stderr",
     "output_type": "stream",
     "text": [
      "train epoch 13: 100%|██████████| 5872/5872 [00:53<00:00, 109.26it/s, loss=16, tp=0, tn=0, fp=0, fn=0]\n",
      "val epoch 13: 100%|██████████| 653/653 [00:00<00:00, 672.99it/s, loss=16.2, tp=0, tn=0, fp=0, fn=0]\n"
     ]
    },
    {
     "name": "stdout",
     "output_type": "stream",
     "text": [
      " \n"
     ]
    },
    {
     "name": "stderr",
     "output_type": "stream",
     "text": [
      "train epoch 14: 100%|██████████| 5872/5872 [00:54<00:00, 107.36it/s, loss=16, tp=0, tn=0, fp=0, fn=0]\n",
      "val epoch 14: 100%|██████████| 653/653 [00:00<00:00, 661.61it/s, loss=16.1, tp=0, tn=0, fp=0, fn=0]\n"
     ]
    },
    {
     "name": "stdout",
     "output_type": "stream",
     "text": [
      " \n"
     ]
    },
    {
     "name": "stderr",
     "output_type": "stream",
     "text": [
      "train epoch 15: 100%|██████████| 5872/5872 [00:52<00:00, 111.23it/s, loss=16, tp=0, tn=0, fp=0, fn=0]\n",
      "val epoch 15: 100%|██████████| 653/653 [00:00<00:00, 687.85it/s, loss=16.1, tp=0, tn=0, fp=0, fn=0]\n"
     ]
    },
    {
     "name": "stdout",
     "output_type": "stream",
     "text": [
      " \n"
     ]
    },
    {
     "name": "stderr",
     "output_type": "stream",
     "text": [
      "train epoch 16: 100%|██████████| 5872/5872 [00:54<00:00, 107.33it/s, loss=16, tp=0, tn=0, fp=0, fn=0]\n",
      "val epoch 16: 100%|██████████| 653/653 [00:01<00:00, 647.27it/s, loss=16.1, tp=0, tn=0, fp=0, fn=0]\n"
     ]
    },
    {
     "name": "stdout",
     "output_type": "stream",
     "text": [
      " \n"
     ]
    },
    {
     "name": "stderr",
     "output_type": "stream",
     "text": [
      "train epoch 17: 100%|██████████| 5872/5872 [00:57<00:00, 102.36it/s, loss=16, tp=0, tn=0, fp=0, fn=0]\n",
      "val epoch 17: 100%|██████████| 653/653 [00:01<00:00, 650.62it/s, loss=16.1, tp=0, tn=0, fp=0, fn=0]\n"
     ]
    },
    {
     "name": "stdout",
     "output_type": "stream",
     "text": [
      " \n"
     ]
    },
    {
     "name": "stderr",
     "output_type": "stream",
     "text": [
      "train epoch 18: 100%|██████████| 5872/5872 [00:58<00:00, 99.90it/s, loss=16, tp=0, tn=0, fp=0, fn=0] \n",
      "val epoch 18: 100%|██████████| 653/653 [00:01<00:00, 587.83it/s, loss=16.1, tp=0, tn=0, fp=0, fn=0]\n"
     ]
    },
    {
     "name": "stdout",
     "output_type": "stream",
     "text": [
      " \n"
     ]
    },
    {
     "name": "stderr",
     "output_type": "stream",
     "text": [
      "train epoch 19: 100%|██████████| 5872/5872 [00:58<00:00, 100.80it/s, loss=16, tp=0, tn=0, fp=0, fn=0]\n",
      "val epoch 19: 100%|██████████| 653/653 [00:01<00:00, 581.18it/s, loss=16.1, tp=0, tn=0, fp=0, fn=0]\n"
     ]
    },
    {
     "name": "stdout",
     "output_type": "stream",
     "text": [
      " \n"
     ]
    },
    {
     "name": "stderr",
     "output_type": "stream",
     "text": [
      "train epoch 20: 100%|██████████| 5872/5872 [00:58<00:00, 100.91it/s, loss=16, tp=0, tn=0, fp=0, fn=0]\n",
      "val epoch 20: 100%|██████████| 653/653 [00:01<00:00, 550.95it/s, loss=16.1, tp=0, tn=0, fp=0, fn=0]\n"
     ]
    },
    {
     "name": "stdout",
     "output_type": "stream",
     "text": [
      " \n"
     ]
    },
    {
     "name": "stderr",
     "output_type": "stream",
     "text": [
      "train epoch 21: 100%|██████████| 5872/5872 [00:58<00:00, 99.81it/s, loss=15.9, tp=0, tn=0, fp=0, fn=0] \n",
      "val epoch 21: 100%|██████████| 653/653 [00:01<00:00, 614.22it/s, loss=16.1, tp=0, tn=0, fp=0, fn=0]\n"
     ]
    },
    {
     "name": "stdout",
     "output_type": "stream",
     "text": [
      " \n"
     ]
    },
    {
     "name": "stderr",
     "output_type": "stream",
     "text": [
      "train epoch 22: 100%|██████████| 5872/5872 [00:57<00:00, 102.30it/s, loss=15.9, tp=0, tn=0, fp=0, fn=0]\n",
      "val epoch 22: 100%|██████████| 653/653 [00:01<00:00, 642.69it/s, loss=16.2, tp=0, tn=0, fp=0, fn=0]\n"
     ]
    },
    {
     "name": "stdout",
     "output_type": "stream",
     "text": [
      " \n"
     ]
    },
    {
     "name": "stderr",
     "output_type": "stream",
     "text": [
      "train epoch 23: 100%|██████████| 5872/5872 [00:56<00:00, 103.59it/s, loss=15.9, tp=0, tn=0, fp=0, fn=0]\n",
      "val epoch 23: 100%|██████████| 653/653 [00:01<00:00, 630.99it/s, loss=16.2, tp=0, tn=0, fp=0, fn=0]\n"
     ]
    },
    {
     "name": "stdout",
     "output_type": "stream",
     "text": [
      " \n"
     ]
    },
    {
     "name": "stderr",
     "output_type": "stream",
     "text": [
      "train epoch 24: 100%|██████████| 5872/5872 [00:56<00:00, 103.40it/s, loss=15.9, tp=0, tn=0, fp=0, fn=0]\n",
      "val epoch 24: 100%|██████████| 653/653 [00:00<00:00, 684.17it/s, loss=16.1, tp=0, tn=0, fp=0, fn=0]\n"
     ]
    },
    {
     "name": "stdout",
     "output_type": "stream",
     "text": [
      " \n"
     ]
    },
    {
     "name": "stderr",
     "output_type": "stream",
     "text": [
      "train epoch 25: 100%|██████████| 5872/5872 [00:57<00:00, 102.97it/s, loss=15.9, tp=0, tn=0, fp=0, fn=0]\n",
      "val epoch 25: 100%|██████████| 653/653 [00:00<00:00, 671.56it/s, loss=16.2, tp=0, tn=0, fp=0, fn=0]\n"
     ]
    },
    {
     "name": "stdout",
     "output_type": "stream",
     "text": [
      " \n"
     ]
    },
    {
     "name": "stderr",
     "output_type": "stream",
     "text": [
      "train epoch 26: 100%|██████████| 5872/5872 [00:55<00:00, 105.67it/s, loss=15.9, tp=0, tn=0, fp=0, fn=0]\n",
      "val epoch 26: 100%|██████████| 653/653 [00:01<00:00, 643.23it/s, loss=16.2, tp=0, tn=0, fp=0, fn=0]\n"
     ]
    },
    {
     "name": "stdout",
     "output_type": "stream",
     "text": [
      " \n"
     ]
    },
    {
     "name": "stderr",
     "output_type": "stream",
     "text": [
      "train epoch 27: 100%|██████████| 5872/5872 [53:35<00:00,  1.83it/s, loss=15.9, tp=0, tn=0, fp=0, fn=0] \n",
      "val epoch 27: 100%|██████████| 653/653 [00:00<00:00, 688.19it/s, loss=16.2, tp=0, tn=0, fp=0, fn=0]\n"
     ]
    },
    {
     "name": "stdout",
     "output_type": "stream",
     "text": [
      " \n"
     ]
    },
    {
     "name": "stderr",
     "output_type": "stream",
     "text": [
      "train epoch 28: 100%|██████████| 5872/5872 [00:53<00:00, 109.07it/s, loss=15.9, tp=0, tn=0, fp=0, fn=0]\n",
      "val epoch 28: 100%|██████████| 653/653 [00:00<00:00, 660.31it/s, loss=16.1, tp=0, tn=0, fp=0, fn=0]\n"
     ]
    },
    {
     "name": "stdout",
     "output_type": "stream",
     "text": [
      " \n"
     ]
    },
    {
     "name": "stderr",
     "output_type": "stream",
     "text": [
      "train epoch 29: 100%|██████████| 5872/5872 [00:55<00:00, 105.10it/s, loss=15.9, tp=0, tn=0, fp=0, fn=0]\n",
      "val epoch 29: 100%|██████████| 653/653 [00:00<00:00, 706.18it/s, loss=16.2, tp=0, tn=0, fp=0, fn=0]\n"
     ]
    },
    {
     "name": "stdout",
     "output_type": "stream",
     "text": [
      " \n"
     ]
    },
    {
     "name": "stderr",
     "output_type": "stream",
     "text": [
      "train epoch 30: 100%|██████████| 5872/5872 [00:54<00:00, 108.54it/s, loss=15.9, tp=0, tn=0, fp=0, fn=0]\n",
      "val epoch 30: 100%|██████████| 653/653 [00:00<00:00, 704.55it/s, loss=16.1, tp=0, tn=0, fp=0, fn=0]\n"
     ]
    },
    {
     "name": "stdout",
     "output_type": "stream",
     "text": [
      " \n",
      "Early stopping after 30 epochs\n"
     ]
    }
   ],
   "source": [
    "model = DNN(hidden_layers=5, hidden_dim=128, input_dim=11, output_dim=3)\n",
    "metrics = train_model(model=model, model_save_dir='./models', \n",
    "                      train_dataset=train_data, val_dataset=val_data,\n",
    "                      lr=0.001, num_epochs=100, l2=1e-5)"
   ]
  },
  {
   "cell_type": "code",
   "execution_count": 4,
   "metadata": {},
   "outputs": [
    {
     "data": {
      "image/png": "[encoded data removed]",
      "text/plain": [
       "<Figure size 800x1200 with 2 Axes>"
      ]
     },
     "metadata": {},
     "output_type": "display_data"
    }
   ],
   "source": [
    "import matplotlib.pyplot as plt\n",
    "import numpy as np\n",
    "\n",
    "fig, ax = plt.subplots(2, 1, figsize=(8, 12))\n",
    "fig.tight_layout(pad=6.0)\n",
    "\n",
    "epochs = np.arange(len(metrics['train_loss']))\n",
    "\n",
    "for mode, fmt in zip(['train', 'val'], ['-', '--']):\n",
    "    metric = metrics[f'{mode}_loss']\n",
    "    if len(metric) > 0:\n",
    "        ax[0].plot(epochs, metric, label=mode, linestyle=fmt, c='tab:blue')\n",
    "\n",
    "for metr, col in zip(['precision', 'recall', 'selectivity', 'accuracy', 'balanced_accuracy', 'f1'],\n",
    "                        ['tab:blue', 'tab:orange', 'tab:green', 'tab:red', 'tab:purple', 'tab:brown']):\n",
    "    for mode, fmt in zip(['train', 'val'], ['-', '--']):\n",
    "        metric = metrics[f'{mode}_{metr}']\n",
    "        if len(metric) > 0:\n",
    "            ax[1].plot(epochs, metric, label=mode + ' ' + metr.replace('_', ' '), linestyle=fmt, c=col)\n",
    "\n",
    "labels = ['loss', 'metric']\n",
    "titles = ['Loss', 'Metrics']\n",
    "legend_fontsize = [10, 10]\n",
    "\n",
    "for i in range(2):\n",
    "    ax[i].set_xticks(epochs[::5])\n",
    "    ax[i].set_xlabel('epoch', fontsize=16)\n",
    "    ax[i].set_ylabel(labels[i], fontsize=16)\n",
    "    ax[i].set_title(titles[i], fontsize=20)\n",
    "    ax[i].tick_params(labelsize=12)\n",
    "    ax[i].grid(True)\n",
    "    ax[i].legend(fontsize=legend_fontsize[i])\n",
    "# if loss_ylim is not None:\n",
    "#     ax[0].set_ylim(loss_ylim)\n",
    "# if metric_ylim is not None:\n",
    "#     ax[1].set_ylim(metric_ylim)\n",
    "\n",
    "# plt.savefig(os.path.join(save_dir, 'metrics.png'))\n",
    "plt.show()"
   ]
  }
 ],
 "metadata": {
  "kernelspec": {
   "display_name": "sdp_food",
   "language": "python",
   "name": "python3"
  },
  "language_info": {
   "codemirror_mode": {
    "name": "ipython",
    "version": 3
   },
   "file_extension": ".py",
   "mimetype": "text/x-python",
   "name": "python",
   "nbconvert_exporter": "python",
   "pygments_lexer": "ipython3",
   "version": "3.10.9"
  },
  "orig_nbformat": 4,
  "vscode": {
   "interpreter": {
    "hash": "5342c33e5d0780732f4210f0a771b4deeb8325c21bee83d1dd43bc447d49cb4f"
   }
  }
 },
 "nbformat": 4,
 "nbformat_minor": 2
}
