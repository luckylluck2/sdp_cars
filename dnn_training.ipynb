{
 "cells": [
  {
   "cell_type": "code",
   "execution_count": 1,
   "metadata": {},
   "outputs": [
    {
     "name": "stderr",
     "output_type": "stream",
     "text": [
      "c:\\Users\\~MatthijsvanGroening\\.conda\\envs\\sdp_cars\\lib\\site-packages\\tqdm\\auto.py:22: TqdmWarning: IProgress not found. Please update jupyter and ipywidgets. See https://ipywidgets.readthedocs.io/en/stable/user_install.html\n",
      "  from .autonotebook import tqdm as notebook_tqdm\n"
     ]
    }
   ],
   "source": [
    "import os\n",
    "import numpy as np\n",
    "import pandas as pd\n",
    "import matplotlib.pyplot as plt\n",
    "import seaborn as sns\n",
    "from torch import load\n",
    "from torch import FloatTensor\n",
    "from machine_learning.DNN.model import DNN\n",
    "from machine_learning.DNN.training import train_model\n",
    "from machine_learning.DNN.data_pipepline import CarData\n",
    "from torch.utils.data import DataLoader"
   ]
  },
  {
   "cell_type": "code",
   "execution_count": 2,
   "metadata": {},
   "outputs": [],
   "source": [
    "data_dir = './data'\n",
    "\n",
    "# data params\n",
    "label_col = 'price'\n",
    "norm_feats = ['year', 'odometer', 'cylinders', 'lat', 'long']\n",
    "label_norm = 'standard'\n",
    "\n",
    "# training params\n",
    "batch_size = 32\n",
    "val_size = 0.1\n",
    "test_size = 0.1\n",
    "\n",
    "# data files\n",
    "train_features_file = os.path.join(data_dir, 'cleaned_data_train.parquet')\n",
    "train_label_file = os.path.join(data_dir, 'cleaned_price_train.parquet')\n",
    "val_features_file = os.path.join(data_dir, 'cleaned_data_val.parquet')\n",
    "val_label_file = os.path.join(data_dir, 'cleaned_price_val.parquet')\n",
    "test_features_file = os.path.join(data_dir, 'cleaned_data_test.parquet')\n",
    "test_label_file = os.path.join(data_dir, 'cleaned_price_test.parquet')\n",
    "\n",
    "data = CarData()\n",
    "data.load_from_files(train_features_file, train_label_file, val_features_file, \n",
    "                     val_label_file,  test_features_file, test_label_file,\n",
    "                     norm_feats, label_norm='standard')\n",
    "\n",
    "train_data = DataLoader(data.train_data, batch_size=batch_size, shuffle=True)\n",
    "val_data = DataLoader(data.val_data, batch_size=batch_size, shuffle=True)"
   ]
  },
  {
   "cell_type": "code",
   "execution_count": 3,
   "metadata": {},
   "outputs": [],
   "source": [
    "# model params\n",
    "input_dim = len(data.train_data.dataset[0][0])\n",
    "hidden_dims = [512, 256, 256, 128]\n",
    "output_dim = 1\n",
    "\n",
    "# training params\n",
    "learning_rate = 0.001\n",
    "n_epochs = 100\n",
    "l2_reg = 1e-5\n",
    "\n",
    "model_save_dir = f\"./machine_learning/DNN/models/arc_{'_'.join([str(i) for i in hidden_dims])}_lr_{learning_rate}_l2_{l2_reg}\""
   ]
  },
  {
   "cell_type": "code",
   "execution_count": 4,
   "metadata": {},
   "outputs": [
    {
     "name": "stderr",
     "output_type": "stream",
     "text": [
      "train epoch 0: 100%|██████████| 8856/8856 [01:27<00:00, 101.20it/s, rmse=0.449]\n",
      "val epoch 0: 100%|██████████| 1107/1107 [00:03<00:00, 335.05it/s, rmse=0.402]\n"
     ]
    },
    {
     "name": "stdout",
     "output_type": "stream",
     "text": [
      " \n"
     ]
    },
    {
     "name": "stderr",
     "output_type": "stream",
     "text": [
      "train epoch 1: 100%|██████████| 8856/8856 [02:15<00:00, 65.54it/s, rmse=0.409]\n",
      "val epoch 1: 100%|██████████| 1107/1107 [00:03<00:00, 327.23it/s, rmse=0.381]\n"
     ]
    },
    {
     "name": "stdout",
     "output_type": "stream",
     "text": [
      " \n"
     ]
    },
    {
     "name": "stderr",
     "output_type": "stream",
     "text": [
      "train epoch 2: 100%|██████████| 8856/8856 [02:16<00:00, 64.91it/s, rmse=0.392]\n",
      "val epoch 2: 100%|██████████| 1107/1107 [00:03<00:00, 337.10it/s, rmse=0.375]\n"
     ]
    },
    {
     "name": "stdout",
     "output_type": "stream",
     "text": [
      " \n"
     ]
    },
    {
     "name": "stderr",
     "output_type": "stream",
     "text": [
      "train epoch 3: 100%|██████████| 8856/8856 [02:15<00:00, 65.57it/s, rmse=0.381]\n",
      "val epoch 3: 100%|██████████| 1107/1107 [00:03<00:00, 351.04it/s, rmse=0.375]\n"
     ]
    },
    {
     "name": "stdout",
     "output_type": "stream",
     "text": [
      " \n"
     ]
    },
    {
     "name": "stderr",
     "output_type": "stream",
     "text": [
      "train epoch 4: 100%|██████████| 8856/8856 [02:13<00:00, 66.52it/s, rmse=0.373]\n",
      "val epoch 4: 100%|██████████| 1107/1107 [00:03<00:00, 342.19it/s, rmse=0.359]\n"
     ]
    },
    {
     "name": "stdout",
     "output_type": "stream",
     "text": [
      " \n"
     ]
    },
    {
     "name": "stderr",
     "output_type": "stream",
     "text": [
      "train epoch 5: 100%|██████████| 8856/8856 [02:12<00:00, 66.80it/s, rmse=0.366]\n",
      "val epoch 5: 100%|██████████| 1107/1107 [00:03<00:00, 356.67it/s, rmse=0.36]\n"
     ]
    },
    {
     "name": "stdout",
     "output_type": "stream",
     "text": [
      " \n"
     ]
    },
    {
     "name": "stderr",
     "output_type": "stream",
     "text": [
      "train epoch 6: 100%|██████████| 8856/8856 [02:19<00:00, 63.55it/s, rmse=0.362]\n",
      "val epoch 6: 100%|██████████| 1107/1107 [00:03<00:00, 338.34it/s, rmse=0.362]\n"
     ]
    },
    {
     "name": "stdout",
     "output_type": "stream",
     "text": [
      " \n"
     ]
    },
    {
     "name": "stderr",
     "output_type": "stream",
     "text": [
      "train epoch 7: 100%|██████████| 8856/8856 [02:16<00:00, 64.91it/s, rmse=0.357]\n",
      "val epoch 7: 100%|██████████| 1107/1107 [00:02<00:00, 371.79it/s, rmse=0.363]\n"
     ]
    },
    {
     "name": "stdout",
     "output_type": "stream",
     "text": [
      " \n"
     ]
    },
    {
     "name": "stderr",
     "output_type": "stream",
     "text": [
      "train epoch 8: 100%|██████████| 8856/8856 [02:10<00:00, 67.72it/s, rmse=0.353]\n",
      "val epoch 8: 100%|██████████| 1107/1107 [00:03<00:00, 329.62it/s, rmse=0.351]\n"
     ]
    },
    {
     "name": "stdout",
     "output_type": "stream",
     "text": [
      " \n"
     ]
    },
    {
     "name": "stderr",
     "output_type": "stream",
     "text": [
      "train epoch 9: 100%|██████████| 8856/8856 [02:10<00:00, 67.80it/s, rmse=0.349]\n",
      "val epoch 9: 100%|██████████| 1107/1107 [00:03<00:00, 346.95it/s, rmse=0.343]\n"
     ]
    },
    {
     "name": "stdout",
     "output_type": "stream",
     "text": [
      " \n"
     ]
    },
    {
     "name": "stderr",
     "output_type": "stream",
     "text": [
      "train epoch 10: 100%|██████████| 8856/8856 [02:11<00:00, 67.47it/s, rmse=0.347]\n",
      "val epoch 10: 100%|██████████| 1107/1107 [00:03<00:00, 352.31it/s, rmse=0.35]\n"
     ]
    },
    {
     "name": "stdout",
     "output_type": "stream",
     "text": [
      " \n"
     ]
    },
    {
     "name": "stderr",
     "output_type": "stream",
     "text": [
      "train epoch 11: 100%|██████████| 8856/8856 [02:13<00:00, 66.57it/s, rmse=0.345]\n",
      "val epoch 11: 100%|██████████| 1107/1107 [00:03<00:00, 347.70it/s, rmse=0.348]\n"
     ]
    },
    {
     "name": "stdout",
     "output_type": "stream",
     "text": [
      " \n"
     ]
    },
    {
     "name": "stderr",
     "output_type": "stream",
     "text": [
      "train epoch 12: 100%|██████████| 8856/8856 [02:13<00:00, 66.22it/s, rmse=0.341]\n",
      "val epoch 12: 100%|██████████| 1107/1107 [00:02<00:00, 373.59it/s, rmse=0.342]\n"
     ]
    },
    {
     "name": "stdout",
     "output_type": "stream",
     "text": [
      " \n"
     ]
    },
    {
     "name": "stderr",
     "output_type": "stream",
     "text": [
      "train epoch 13: 100%|██████████| 8856/8856 [02:13<00:00, 66.58it/s, rmse=0.34]\n",
      "val epoch 13: 100%|██████████| 1107/1107 [00:02<00:00, 371.69it/s, rmse=0.349]\n"
     ]
    },
    {
     "name": "stdout",
     "output_type": "stream",
     "text": [
      " \n"
     ]
    },
    {
     "name": "stderr",
     "output_type": "stream",
     "text": [
      "train epoch 14: 100%|██████████| 8856/8856 [02:09<00:00, 68.60it/s, rmse=0.339]\n",
      "val epoch 14: 100%|██████████| 1107/1107 [00:03<00:00, 339.22it/s, rmse=0.339]\n"
     ]
    },
    {
     "name": "stdout",
     "output_type": "stream",
     "text": [
      " \n"
     ]
    },
    {
     "name": "stderr",
     "output_type": "stream",
     "text": [
      "train epoch 15: 100%|██████████| 8856/8856 [02:08<00:00, 69.05it/s, rmse=0.337]\n",
      "val epoch 15: 100%|██████████| 1107/1107 [00:02<00:00, 372.33it/s, rmse=0.353]\n"
     ]
    },
    {
     "name": "stdout",
     "output_type": "stream",
     "text": [
      " \n"
     ]
    },
    {
     "name": "stderr",
     "output_type": "stream",
     "text": [
      "train epoch 16: 100%|██████████| 8856/8856 [02:08<00:00, 69.15it/s, rmse=0.335]\n",
      "val epoch 16: 100%|██████████| 1107/1107 [00:03<00:00, 284.32it/s, rmse=0.342]\n"
     ]
    },
    {
     "name": "stdout",
     "output_type": "stream",
     "text": [
      " \n"
     ]
    },
    {
     "name": "stderr",
     "output_type": "stream",
     "text": [
      "train epoch 17: 100%|██████████| 8856/8856 [02:11<00:00, 67.49it/s, rmse=0.333]\n",
      "val epoch 17: 100%|██████████| 1107/1107 [00:03<00:00, 334.37it/s, rmse=0.344]\n"
     ]
    },
    {
     "name": "stdout",
     "output_type": "stream",
     "text": [
      " \n"
     ]
    },
    {
     "name": "stderr",
     "output_type": "stream",
     "text": [
      "train epoch 18: 100%|██████████| 8856/8856 [02:08<00:00, 69.17it/s, rmse=0.332]\n",
      "val epoch 18: 100%|██████████| 1107/1107 [00:02<00:00, 372.69it/s, rmse=0.339]\n"
     ]
    },
    {
     "name": "stdout",
     "output_type": "stream",
     "text": [
      " \n"
     ]
    },
    {
     "name": "stderr",
     "output_type": "stream",
     "text": [
      "train epoch 19: 100%|██████████| 8856/8856 [02:08<00:00, 68.72it/s, rmse=0.331]\n",
      "val epoch 19: 100%|██████████| 1107/1107 [00:02<00:00, 378.37it/s, rmse=0.339]\n"
     ]
    },
    {
     "name": "stdout",
     "output_type": "stream",
     "text": [
      " \n"
     ]
    },
    {
     "name": "stderr",
     "output_type": "stream",
     "text": [
      "train epoch 20: 100%|██████████| 8856/8856 [02:08<00:00, 69.18it/s, rmse=0.33]\n",
      "val epoch 20: 100%|██████████| 1107/1107 [00:03<00:00, 368.67it/s, rmse=0.335]\n"
     ]
    },
    {
     "name": "stdout",
     "output_type": "stream",
     "text": [
      " \n"
     ]
    },
    {
     "name": "stderr",
     "output_type": "stream",
     "text": [
      "train epoch 21: 100%|██████████| 8856/8856 [02:10<00:00, 67.93it/s, rmse=0.329]\n",
      "val epoch 21: 100%|██████████| 1107/1107 [00:03<00:00, 334.61it/s, rmse=0.342]\n"
     ]
    },
    {
     "name": "stdout",
     "output_type": "stream",
     "text": [
      " \n"
     ]
    },
    {
     "name": "stderr",
     "output_type": "stream",
     "text": [
      "train epoch 22: 100%|██████████| 8856/8856 [02:13<00:00, 66.15it/s, rmse=0.328]\n",
      "val epoch 22: 100%|██████████| 1107/1107 [00:03<00:00, 365.47it/s, rmse=0.333]\n"
     ]
    },
    {
     "name": "stdout",
     "output_type": "stream",
     "text": [
      " \n"
     ]
    },
    {
     "name": "stderr",
     "output_type": "stream",
     "text": [
      "train epoch 23: 100%|██████████| 8856/8856 [02:10<00:00, 67.65it/s, rmse=0.327]\n",
      "val epoch 23: 100%|██████████| 1107/1107 [00:02<00:00, 391.01it/s, rmse=0.334]\n"
     ]
    },
    {
     "name": "stdout",
     "output_type": "stream",
     "text": [
      " \n"
     ]
    },
    {
     "name": "stderr",
     "output_type": "stream",
     "text": [
      "train epoch 24: 100%|██████████| 8856/8856 [02:17<00:00, 64.48it/s, rmse=0.327]\n",
      "val epoch 24: 100%|██████████| 1107/1107 [00:03<00:00, 363.15it/s, rmse=0.337]\n"
     ]
    },
    {
     "name": "stdout",
     "output_type": "stream",
     "text": [
      " \n"
     ]
    },
    {
     "name": "stderr",
     "output_type": "stream",
     "text": [
      "train epoch 25: 100%|██████████| 8856/8856 [02:14<00:00, 66.09it/s, rmse=0.326]\n",
      "val epoch 25: 100%|██████████| 1107/1107 [00:03<00:00, 356.36it/s, rmse=0.338]\n"
     ]
    },
    {
     "name": "stdout",
     "output_type": "stream",
     "text": [
      " \n"
     ]
    },
    {
     "name": "stderr",
     "output_type": "stream",
     "text": [
      "train epoch 26: 100%|██████████| 8856/8856 [02:09<00:00, 68.46it/s, rmse=0.324]\n",
      "val epoch 26: 100%|██████████| 1107/1107 [00:02<00:00, 377.55it/s, rmse=0.333]\n"
     ]
    },
    {
     "name": "stdout",
     "output_type": "stream",
     "text": [
      " \n"
     ]
    },
    {
     "name": "stderr",
     "output_type": "stream",
     "text": [
      "train epoch 27: 100%|██████████| 8856/8856 [02:11<00:00, 67.39it/s, rmse=0.325]\n",
      "val epoch 27: 100%|██████████| 1107/1107 [00:02<00:00, 372.48it/s, rmse=0.333]\n"
     ]
    },
    {
     "name": "stdout",
     "output_type": "stream",
     "text": [
      " \n"
     ]
    },
    {
     "name": "stderr",
     "output_type": "stream",
     "text": [
      "train epoch 28: 100%|██████████| 8856/8856 [02:11<00:00, 67.53it/s, rmse=0.324]\n",
      "val epoch 28: 100%|██████████| 1107/1107 [00:02<00:00, 369.55it/s, rmse=0.337]\n"
     ]
    },
    {
     "name": "stdout",
     "output_type": "stream",
     "text": [
      " \n"
     ]
    },
    {
     "name": "stderr",
     "output_type": "stream",
     "text": [
      "train epoch 29: 100%|██████████| 8856/8856 [02:07<00:00, 69.70it/s, rmse=0.324]\n",
      "val epoch 29: 100%|██████████| 1107/1107 [00:02<00:00, 375.74it/s, rmse=0.332]\n"
     ]
    },
    {
     "name": "stdout",
     "output_type": "stream",
     "text": [
      " \n"
     ]
    },
    {
     "name": "stderr",
     "output_type": "stream",
     "text": [
      "train epoch 30: 100%|██████████| 8856/8856 [02:12<00:00, 66.61it/s, rmse=0.323]\n",
      "val epoch 30: 100%|██████████| 1107/1107 [00:03<00:00, 347.31it/s, rmse=0.339]\n"
     ]
    },
    {
     "name": "stdout",
     "output_type": "stream",
     "text": [
      " \n"
     ]
    },
    {
     "name": "stderr",
     "output_type": "stream",
     "text": [
      "train epoch 31: 100%|██████████| 8856/8856 [02:08<00:00, 68.83it/s, rmse=0.322]\n",
      "val epoch 31: 100%|██████████| 1107/1107 [00:02<00:00, 372.84it/s, rmse=0.332]\n"
     ]
    },
    {
     "name": "stdout",
     "output_type": "stream",
     "text": [
      " \n"
     ]
    },
    {
     "name": "stderr",
     "output_type": "stream",
     "text": [
      "train epoch 32: 100%|██████████| 8856/8856 [02:11<00:00, 67.49it/s, rmse=0.322]\n",
      "val epoch 32: 100%|██████████| 1107/1107 [00:02<00:00, 381.23it/s, rmse=0.335]\n"
     ]
    },
    {
     "name": "stdout",
     "output_type": "stream",
     "text": [
      " \n"
     ]
    },
    {
     "name": "stderr",
     "output_type": "stream",
     "text": [
      "train epoch 33: 100%|██████████| 8856/8856 [02:08<00:00, 69.14it/s, rmse=0.321]\n",
      "val epoch 33: 100%|██████████| 1107/1107 [00:02<00:00, 372.55it/s, rmse=0.334]\n"
     ]
    },
    {
     "name": "stdout",
     "output_type": "stream",
     "text": [
      " \n"
     ]
    },
    {
     "name": "stderr",
     "output_type": "stream",
     "text": [
      "train epoch 34: 100%|██████████| 8856/8856 [02:04<00:00, 71.22it/s, rmse=0.321]\n",
      "val epoch 34: 100%|██████████| 1107/1107 [00:02<00:00, 372.25it/s, rmse=0.339]\n"
     ]
    },
    {
     "name": "stdout",
     "output_type": "stream",
     "text": [
      " \n"
     ]
    },
    {
     "name": "stderr",
     "output_type": "stream",
     "text": [
      "train epoch 35: 100%|██████████| 8856/8856 [02:00<00:00, 73.63it/s, rmse=0.319]\n",
      "val epoch 35: 100%|██████████| 1107/1107 [00:02<00:00, 415.29it/s, rmse=0.332]\n"
     ]
    },
    {
     "name": "stdout",
     "output_type": "stream",
     "text": [
      " \n"
     ]
    },
    {
     "name": "stderr",
     "output_type": "stream",
     "text": [
      "train epoch 36: 100%|██████████| 8856/8856 [02:09<00:00, 68.33it/s, rmse=0.32]\n",
      "val epoch 36: 100%|██████████| 1107/1107 [00:03<00:00, 367.18it/s, rmse=0.33]\n"
     ]
    },
    {
     "name": "stdout",
     "output_type": "stream",
     "text": [
      " \n"
     ]
    },
    {
     "name": "stderr",
     "output_type": "stream",
     "text": [
      "train epoch 37: 100%|██████████| 8856/8856 [02:14<00:00, 66.08it/s, rmse=0.319]\n",
      "val epoch 37: 100%|██████████| 1107/1107 [00:03<00:00, 289.41it/s, rmse=0.334]\n"
     ]
    },
    {
     "name": "stdout",
     "output_type": "stream",
     "text": [
      " \n"
     ]
    },
    {
     "name": "stderr",
     "output_type": "stream",
     "text": [
      "train epoch 38: 100%|██████████| 8856/8856 [02:33<00:00, 57.57it/s, rmse=0.319]\n",
      "val epoch 38: 100%|██████████| 1107/1107 [00:02<00:00, 371.54it/s, rmse=0.326]\n"
     ]
    },
    {
     "name": "stdout",
     "output_type": "stream",
     "text": [
      " \n"
     ]
    },
    {
     "name": "stderr",
     "output_type": "stream",
     "text": [
      "train epoch 39: 100%|██████████| 8856/8856 [02:09<00:00, 68.13it/s, rmse=0.318]\n",
      "val epoch 39: 100%|██████████| 1107/1107 [00:02<00:00, 371.29it/s, rmse=0.336]\n"
     ]
    },
    {
     "name": "stdout",
     "output_type": "stream",
     "text": [
      " \n"
     ]
    },
    {
     "name": "stderr",
     "output_type": "stream",
     "text": [
      "train epoch 40: 100%|██████████| 8856/8856 [02:13<00:00, 66.53it/s, rmse=0.317]\n",
      "val epoch 40: 100%|██████████| 1107/1107 [00:03<00:00, 360.22it/s, rmse=0.333]\n"
     ]
    },
    {
     "name": "stdout",
     "output_type": "stream",
     "text": [
      " \n"
     ]
    },
    {
     "name": "stderr",
     "output_type": "stream",
     "text": [
      "train epoch 41: 100%|██████████| 8856/8856 [02:17<00:00, 64.49it/s, rmse=0.317]\n",
      "val epoch 41: 100%|██████████| 1107/1107 [00:05<00:00, 186.46it/s, rmse=0.339]\n"
     ]
    },
    {
     "name": "stdout",
     "output_type": "stream",
     "text": [
      " \n"
     ]
    },
    {
     "name": "stderr",
     "output_type": "stream",
     "text": [
      "train epoch 42: 100%|██████████| 8856/8856 [02:27<00:00, 59.84it/s, rmse=0.317]\n",
      "val epoch 42: 100%|██████████| 1107/1107 [00:02<00:00, 369.08it/s, rmse=0.33]\n"
     ]
    },
    {
     "name": "stdout",
     "output_type": "stream",
     "text": [
      " \n"
     ]
    },
    {
     "name": "stderr",
     "output_type": "stream",
     "text": [
      "train epoch 43: 100%|██████████| 8856/8856 [02:09<00:00, 68.37it/s, rmse=0.317]\n",
      "val epoch 43: 100%|██████████| 1107/1107 [00:03<00:00, 352.75it/s, rmse=0.339]\n"
     ]
    },
    {
     "name": "stdout",
     "output_type": "stream",
     "text": [
      " \n"
     ]
    },
    {
     "name": "stderr",
     "output_type": "stream",
     "text": [
      "train epoch 44: 100%|██████████| 8856/8856 [02:13<00:00, 66.55it/s, rmse=0.317]\n",
      "val epoch 44: 100%|██████████| 1107/1107 [00:03<00:00, 343.55it/s, rmse=0.336]\n"
     ]
    },
    {
     "name": "stdout",
     "output_type": "stream",
     "text": [
      " \n"
     ]
    },
    {
     "name": "stderr",
     "output_type": "stream",
     "text": [
      "train epoch 45: 100%|██████████| 8856/8856 [02:10<00:00, 67.67it/s, rmse=0.315]\n",
      "val epoch 45: 100%|██████████| 1107/1107 [00:03<00:00, 350.17it/s, rmse=0.332]\n"
     ]
    },
    {
     "name": "stdout",
     "output_type": "stream",
     "text": [
      " \n"
     ]
    },
    {
     "name": "stderr",
     "output_type": "stream",
     "text": [
      "train epoch 46: 100%|██████████| 8856/8856 [02:09<00:00, 68.51it/s, rmse=0.315]\n",
      "val epoch 46: 100%|██████████| 1107/1107 [00:03<00:00, 358.57it/s, rmse=0.333]\n"
     ]
    },
    {
     "name": "stdout",
     "output_type": "stream",
     "text": [
      " \n"
     ]
    },
    {
     "name": "stderr",
     "output_type": "stream",
     "text": [
      "train epoch 47: 100%|██████████| 8856/8856 [02:12<00:00, 66.81it/s, rmse=0.316]\n",
      "val epoch 47: 100%|██████████| 1107/1107 [00:03<00:00, 361.80it/s, rmse=0.336]\n"
     ]
    },
    {
     "name": "stdout",
     "output_type": "stream",
     "text": [
      " \n"
     ]
    },
    {
     "name": "stderr",
     "output_type": "stream",
     "text": [
      "train epoch 48: 100%|██████████| 8856/8856 [02:14<00:00, 65.79it/s, rmse=0.316]\n",
      "val epoch 48: 100%|██████████| 1107/1107 [00:02<00:00, 370.12it/s, rmse=0.327]\n"
     ]
    },
    {
     "name": "stdout",
     "output_type": "stream",
     "text": [
      " \n",
      "Early stopping after 48 epochs\n"
     ]
    }
   ],
   "source": [
    "model = DNN(hidden_dims=hidden_dims, input_dim=input_dim, output_dim=output_dim)\n",
    "losses = train_model(model=model, model_save_dir=model_save_dir, \n",
    "            train_dataset=train_data, val_dataset=val_data,\n",
    "            lr=learning_rate, num_epochs=n_epochs, l2=l2_reg)"
   ]
  },
  {
   "cell_type": "code",
   "execution_count": 7,
   "metadata": {},
   "outputs": [
    {
     "data": {
      "image/png": "[encoded data removed]",
      "text/plain": [
       "<Figure size 600x600 with 1 Axes>"
      ]
     },
     "metadata": {},
     "output_type": "display_data"
    }
   ],
   "source": [
    "epochs = np.arange(len(losses['train']))\n",
    "\n",
    "fig, ax = plt.subplots(1, 1, figsize=(6, 6))\n",
    "\n",
    "ax.plot(epochs, losses['train'], label='train')\n",
    "ax.plot(epochs, losses['val'], label='validation')\n",
    "ax.set_xlabel('Epoch')\n",
    "ax.set_ylabel('RMSE (scaled)')\n",
    "ax.set_title('Neural network RMSE loss')\n",
    "ax.legend()\n",
    "ax.grid(True)\n",
    "plt.savefig(os.path.join(model_save_dir, 'loss.png'))\n",
    "plt.show()"
   ]
  }
 ],
 "metadata": {
  "kernelspec": {
   "display_name": "sdp_cars",
   "language": "python",
   "name": "python3"
  },
  "language_info": {
   "codemirror_mode": {
    "name": "ipython",
    "version": 3
   },
   "file_extension": ".py",
   "mimetype": "text/x-python",
   "name": "python",
   "nbconvert_exporter": "python",
   "pygments_lexer": "ipython3",
   "version": "3.10.9"
  },
  "orig_nbformat": 4,
  "vscode": {
   "interpreter": {
    "hash": "150cc08f7c149483de07f1e49a26179f658c8842df0262fb1328941cbc84a9d7"
   }
  }
 },
 "nbformat": 4,
 "nbformat_minor": 2
}
